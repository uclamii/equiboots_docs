{
 "cells": [
  {
   "cell_type": "markdown",
   "metadata": {
    "id": "EWNzbca5Mf0x"
   },
   "source": [
    "# Bias and Fairness Assessment (Binary Classification: Adult Income)"
   ]
  },
  {
   "cell_type": "markdown",
   "metadata": {
    "id": "c2AbxsXsMkPj"
   },
   "source": [
    "## Dataset Overview: UCI Adult Income Dataset\n",
    "The **Adult Income dataset** (also known as the **Census Income** dataset) originates from the **UCI Machine Learning Repository**. It was extracted from the 1994 U.S. Census database and is widely used for benchmarking classification models, especially in fairness and bias research.\n",
    "\n",
    "The task is to **predict whether an individual earns more than $50K per year** based on features such as age, education, occupation, and marital status.\n",
    "\n",
    "- Target variable: income (binary: <=50K or >50K)\n",
    "\n",
    "- Samples: 48,842\n",
    "\n",
    "- Features: 14 demographic and employment-related attributes\n",
    "\n",
    "- Use case: Benchmarking algorithms, fairness audits, and bias mitigation\n",
    "\n",
    "Due to its inclusion of sensitive attributes (e.g., sex, race), it’s commonly used in studies evaluating algorithmic fairness and disparate impact.\n",
    "\n"
   ]
  },
  {
   "cell_type": "markdown",
   "metadata": {
    "id": "5wfzEPOyMqeP"
   },
   "source": []
  },
  {
   "cell_type": "markdown",
   "metadata": {
    "id": "ulxJaIRQMlwn"
   },
   "source": [
    "In this notebook, we’ll train an XGBoost model to predict whether an individual’s annual income exceeds \\$50K and then evaluate its performance and fairness across different demographic groups."
   ]
  },
  {
   "cell_type": "markdown",
   "metadata": {
    "id": "_IGcBI4ZMoXk"
   },
   "source": [
    "### Step 1: Install and import dependencies\n"
   ]
  },
  {
   "cell_type": "code",
   "execution_count": null,
   "metadata": {
    "colab": {
     "base_uri": "https://localhost:8080/"
    },
    "id": "MSbTAei9TZJH",
    "outputId": "437ce68f-bb5b-41cd-fd3b-16ef3a7a3b95"
   },
   "outputs": [],
   "source": [
    "! pip install equiboots"
   ]
  },
  {
   "cell_type": "code",
   "execution_count": null,
   "metadata": {
    "colab": {
     "base_uri": "https://localhost:8080/"
    },
    "id": "FAxWExLnMuRg",
    "outputId": "bf0a426c-305b-466c-a9d5-867fc979ad6b"
   },
   "outputs": [],
   "source": [
    "! pip install ucimlrepo"
   ]
  },
  {
   "cell_type": "code",
   "execution_count": null,
   "metadata": {
    "id": "MirLIXB9MxFN"
   },
   "outputs": [],
   "source": [
    "from ucimlrepo import fetch_ucirepo\n",
    "import pandas as pd\n",
    "import numpy as np\n",
    "from sklearn.preprocessing import LabelEncoder\n",
    "from sklearn.model_selection import train_test_split\n",
    "from xgboost import XGBClassifier\n",
    "from sklearn.metrics import classification_report"
   ]
  },
  {
   "cell_type": "code",
   "execution_count": null,
   "metadata": {
    "id": "ZfFb02NyMyBn"
   },
   "outputs": [],
   "source": [
    "# fetch dataset\n",
    "adult = fetch_ucirepo(id=2)\n",
    "adult = adult.data.features.join(adult.data.targets, how=\"inner\")"
   ]
  },
  {
   "cell_type": "code",
   "execution_count": null,
   "metadata": {
    "colab": {
     "base_uri": "https://localhost:8080/",
     "height": 669
    },
    "id": "GoCXwqsQTCQQ",
    "outputId": "fe621dae-3d31-43fd-f33b-b3a675bc6010"
   },
   "outputs": [],
   "source": [
    "adult"
   ]
  },
  {
   "cell_type": "markdown",
   "metadata": {
    "id": "xMQ5N47vMzXZ"
   },
   "source": [
    "## Basic Preprocessing Steps"
   ]
  },
  {
   "cell_type": "markdown",
   "metadata": {
    "id": "yYBb5DsxMz8T"
   },
   "source": [
    "### 1. Drop missing values"
   ]
  },
  {
   "cell_type": "code",
   "execution_count": null,
   "metadata": {
    "id": "bF_DtdPTM1Yy"
   },
   "outputs": [],
   "source": [
    "# Drop missing values\n",
    "adult.dropna(inplace=True)"
   ]
  },
  {
   "cell_type": "markdown",
   "metadata": {
    "id": "-p7NlTeJNstX"
   },
   "source": [
    "### 2. Copy DataFrame for posterity"
   ]
  },
  {
   "cell_type": "code",
   "execution_count": null,
   "metadata": {
    "id": "akVIVbXmNqTw"
   },
   "outputs": [],
   "source": [
    "df = adult.copy()"
   ]
  },
  {
   "cell_type": "code",
   "execution_count": null,
   "metadata": {
    "colab": {
     "base_uri": "https://localhost:8080/",
     "height": 241
    },
    "id": "eXRmeg_8wiA2",
    "outputId": "18975dd8-31eb-4e93-cac9-8d772d70ce10"
   },
   "outputs": [],
   "source": [
    "adult['income'].value_counts()"
   ]
  },
  {
   "cell_type": "markdown",
   "metadata": {
    "id": "Fbu-MFeMM2sz"
   },
   "source": [
    "### 3. Encode categorical variables"
   ]
  },
  {
   "cell_type": "code",
   "execution_count": null,
   "metadata": {
    "id": "K036CclmWbPl"
   },
   "outputs": [],
   "source": [
    "def outcome_merge(val):\n",
    "  if val == '<=50K' or val == '<=50K.':\n",
    "    return 0\n",
    "  else:\n",
    "    return 1"
   ]
  },
  {
   "cell_type": "code",
   "execution_count": null,
   "metadata": {
    "id": "N74NyjgtWRMr"
   },
   "outputs": [],
   "source": [
    "df['income'] = df['income'].apply(outcome_merge)"
   ]
  },
  {
   "cell_type": "markdown",
   "metadata": {
    "id": "SBAi0x6IM5Yv"
   },
   "source": [
    "### 4. Split the data"
   ]
  },
  {
   "cell_type": "code",
   "execution_count": null,
   "metadata": {
    "id": "Lfe5t6IZM60e"
   },
   "outputs": [],
   "source": [
    "# Split data\n",
    "X = df.drop(\"income\", axis=1)\n",
    "y = df[\"income\"]"
   ]
  },
  {
   "cell_type": "code",
   "execution_count": null,
   "metadata": {},
   "outputs": [],
   "source": [
    "for col in X.columns:\n",
    "    if isinstance(X[col], object):\n",
    "        X[col] = X[col].astype(\"category\")"
   ]
  },
  {
   "cell_type": "code",
   "execution_count": null,
   "metadata": {
    "id": "lmUyh5dzM8dU"
   },
   "outputs": [],
   "source": [
    "X_train, X_test, y_train, y_test = train_test_split(\n",
    "    X,\n",
    "    y,\n",
    "    test_size=0.2,\n",
    "    random_state=42,\n",
    ")\n"
   ]
  },
  {
   "cell_type": "markdown",
   "metadata": {
    "id": "4uRLCghYM9Ub"
   },
   "source": [
    "## Train XGBoost Model"
   ]
  },
  {
   "cell_type": "code",
   "execution_count": null,
   "metadata": {
    "colab": {
     "base_uri": "https://localhost:8080/",
     "height": 147
    },
    "id": "QTlGNyrHwIPW",
    "outputId": "9fcbce28-b854-4df0-a232-a1017a7eb52b"
   },
   "outputs": [],
   "source": [
    "y_train.value_counts()"
   ]
  },
  {
   "cell_type": "code",
   "execution_count": null,
   "metadata": {
    "colab": {
     "base_uri": "https://localhost:8080/",
     "height": 347
    },
    "id": "ifiKclAeM-1H",
    "outputId": "742373df-0ece-4ee9-d46a-65ea49333ce7"
   },
   "outputs": [],
   "source": [
    "model = XGBClassifier(\n",
    "    eval_metric='logloss',\n",
    "    random_state=42,\n",
    "    enable_categorical=True\n",
    ")\n",
    "model.fit(X_train, y_train)"
   ]
  },
  {
   "cell_type": "markdown",
   "metadata": {
    "id": "wqe2kl-7NAhB"
   },
   "source": [
    "## Evaluate XGBoost Model"
   ]
  },
  {
   "cell_type": "code",
   "execution_count": null,
   "metadata": {
    "id": "NvULzSB5NCMn"
   },
   "outputs": [],
   "source": [
    "y_pred = model.predict(X_test)\n",
    "y_prob = model.predict_proba(X_test)\n",
    "print(classification_report(y_test, y_pred))"
   ]
  },
  {
   "cell_type": "markdown",
   "metadata": {
    "id": "VKydvDxLThP9"
   },
   "source": [
    "# Bias and Fairness Analysis with EquiBoots"
   ]
  },
  {
   "cell_type": "code",
   "execution_count": null,
   "metadata": {
    "id": "id0rzf9HTgd1"
   },
   "outputs": [],
   "source": [
    "import equiboots as eqb"
   ]
  },
  {
   "cell_type": "markdown",
   "metadata": {
    "id": "RplCUsl2TzNB"
   },
   "source": [
    "## Points Estimates"
   ]
  },
  {
   "cell_type": "code",
   "execution_count": null,
   "metadata": {
    "id": "WZDhrQZvTesJ"
   },
   "outputs": [],
   "source": [
    "# get predictions and true values\n",
    "y_pred = model.predict(X_test)\n",
    "y_prob = model.predict_proba(X_test)[:,1]\n",
    "y_test = y_test.to_numpy()\n",
    "\n",
    "X_test[['race', 'sex']] = X_test[['race', 'sex']].astype(str)\n",
    "\n",
    "\n",
    "# Create fairness DataFrame\n",
    "fairness_df = X_test[['race', 'sex']].reset_index()\n",
    "\n",
    "eq = eqb.EquiBoots(\n",
    "    y_true=y_test,\n",
    "    y_prob=y_prob,\n",
    "    y_pred=y_pred,\n",
    "    fairness_df=fairness_df,\n",
    "    fairness_vars=[\"race\", \"sex\"],\n",
    ")\n",
    "eq.grouper(groupings_vars=[\"race\", \"sex\"])"
   ]
  },
  {
   "cell_type": "code",
   "execution_count": null,
   "metadata": {
    "id": "W4ObfcV_U58T"
   },
   "outputs": [],
   "source": [
    "sliced_race_data = eq.slicer(\"race\")\n",
    "race_metrics = eq.get_metrics(sliced_race_data)\n",
    "\n",
    "sliced_sex_data = eq.slicer(\"sex\")\n",
    "sex_metrics = eq.get_metrics(sliced_sex_data)"
   ]
  },
  {
   "cell_type": "code",
   "execution_count": null,
   "metadata": {
    "id": "K_VE1Z7cVOGw"
   },
   "outputs": [],
   "source": [
    "test_config = {\n",
    "    \"test_type\": \"chi_square\",\n",
    "    \"alpha\": 0.05,\n",
    "    \"adjust_method\": \"bonferroni\",\n",
    "    \"confidence_level\": 0.95,\n",
    "    \"classification_task\": \"binary_classification\",\n",
    "}\n",
    "stat_test_results_race = eq.analyze_statistical_significance(\n",
    "    race_metrics, \"race\", test_config\n",
    ")\n",
    "\n",
    "stat_test_results_sex = eq.analyze_statistical_significance(\n",
    "    sex_metrics, \"sex\", test_config\n",
    ")"
   ]
  },
  {
   "cell_type": "code",
   "execution_count": null,
   "metadata": {
    "id": "nU_CsBvoXg6R"
   },
   "outputs": [],
   "source": [
    "stat_test_results_race"
   ]
  },
  {
   "cell_type": "code",
   "execution_count": null,
   "metadata": {
    "id": "O_7o3F-SXoW8"
   },
   "outputs": [],
   "source": [
    "overall_stat_results = {\"sex\": stat_test_results_sex, \"race\": stat_test_results_race}"
   ]
  },
  {
   "cell_type": "markdown",
   "metadata": {
    "id": "BF2wOGKOUNFO"
   },
   "source": [
    "## Signficance plots\n",
    "Below we plot the different race and sex groups and look at how their performance differs for each of these groups.\n",
    "We conduct statistical signficance tests to determine firstly whether there is a difference between the groups\n",
    "(omnibus test) this is represented by the asterix (*) and then we determine which groups are statistically signficance these are shown with the (▲).\n",
    "\n",
    "Point estimate signficance was determined using the chi-squared test.\n"
   ]
  },
  {
   "cell_type": "code",
   "execution_count": null,
   "metadata": {
    "id": "RwGRiu6sX0OF"
   },
   "outputs": [],
   "source": [
    "eqb.eq_group_metrics_point_plot(\n",
    "    group_metrics=[race_metrics, sex_metrics],\n",
    "    metric_cols=[\n",
    "        \"Accuracy\",\n",
    "        \"Precision\",\n",
    "        \"Recall\",\n",
    "    ],\n",
    "    category_names=[\"race\", \"sex\"],\n",
    "    figsize=(6, 8),\n",
    "    include_legend=True,\n",
    "    plot_thresholds=(0.9, 1.1),\n",
    "    raw_metrics=True,\n",
    "    show_grid=True,\n",
    "    y_lim=(0, 1),\n",
    "    statistical_tests=overall_stat_results\n",
    ")"
   ]
  },
  {
   "cell_type": "code",
   "execution_count": null,
   "metadata": {
    "id": "OY8ELENUYAr6"
   },
   "outputs": [],
   "source": [
    "from equiboots.tables import metrics_table"
   ]
  },
  {
   "cell_type": "code",
   "execution_count": null,
   "metadata": {
    "id": "47IeJfgYX5fN"
   },
   "outputs": [],
   "source": [
    "stat_metrics_table_point = metrics_table(race_metrics, statistical_tests=stat_test_results_race, reference_group=\"White\")"
   ]
  },
  {
   "cell_type": "code",
   "execution_count": null,
   "metadata": {
    "id": "QvB6iZvPYBKW"
   },
   "outputs": [],
   "source": [
    "stat_metrics_table_point"
   ]
  },
  {
   "cell_type": "markdown",
   "metadata": {
    "id": "ogkkZj_FUWI4"
   },
   "source": [
    "## Precision-Recall, ROC AUC and Calibration by Race\n",
    "These plots look at how performance is different across the different race groups.\n",
    "We choose to exclude certain groups from the analysis because there are not enough members of these groups to make a \n",
    "fair comparison between the groups."
   ]
  },
  {
   "cell_type": "code",
   "execution_count": null,
   "metadata": {
    "id": "zI5wloDkZwf1"
   },
   "outputs": [],
   "source": [
    "eqb.eq_plot_group_curves(\n",
    "    sliced_race_data,\n",
    "    curve_type=\"pr\",\n",
    "    title=\"Precision-Recall by Race Group\",\n",
    "    exclude_groups=[\"Amer-Indian-Eskimo\", \"Other\"]\n",
    ")"
   ]
  },
  {
   "cell_type": "code",
   "execution_count": null,
   "metadata": {
    "id": "N5s2lfp9aGFu"
   },
   "outputs": [],
   "source": [
    "eqb.eq_plot_group_curves(\n",
    "    sliced_race_data,\n",
    "    curve_type=\"roc\",\n",
    "    title=\"ROC AUC by Race Group\",\n",
    "    # figsize=(5, 5),\n",
    "    decimal_places=2,\n",
    "    subplots=True,\n",
    "    exclude_groups=[\"Amer-Indian-Eskimo\", \"Other\"]\n",
    ")"
   ]
  },
  {
   "cell_type": "code",
   "execution_count": null,
   "metadata": {
    "id": "D4XfMzRwZdTc"
   },
   "outputs": [],
   "source": [
    "eqb.eq_plot_group_curves(\n",
    "    sliced_race_data,\n",
    "    curve_type=\"calibration\",\n",
    "    shade_area=True,\n",
    "    title=\"Calibration by Race Group\",\n",
    "    exclude_groups=[ \"Amer-Indian-Eskimo\", \"Other\"]\n",
    ")"
   ]
  },
  {
   "cell_type": "markdown",
   "metadata": {
    "id": "xyYS4cOsZfy5"
   },
   "source": [
    "## Bootstrap Estimates"
   ]
  },
  {
   "cell_type": "code",
   "execution_count": null,
   "metadata": {
    "id": "29WusiHqZhcW"
   },
   "outputs": [],
   "source": [
    "int_list = np.linspace(0, 100, num=10, dtype=int).tolist()\n",
    "eq2 = eqb.EquiBoots(\n",
    "    y_true=y_test,\n",
    "    y_pred=y_pred,\n",
    "    y_prob=y_prob,\n",
    "    fairness_df=fairness_df,\n",
    "    fairness_vars= [\"race\"],\n",
    "    seeds=int_list,\n",
    "    reference_groups=[\"White\"],\n",
    "    task=\"binary_classification\",\n",
    "    bootstrap_flag=True,\n",
    "    num_bootstraps=5001,\n",
    "    boot_sample_size=1000,\n",
    "    group_min_size=150,\n",
    "    balanced=False,  # False is stratified, True is balanced\n",
    ")\n",
    "\n",
    "# Set seeds\n",
    "eq2.set_fix_seeds(int_list)\n",
    "print(\"seeds\", eq2.seeds)\n",
    "\n",
    "eq2.grouper(groupings_vars=[\"race\"])\n",
    "\n",
    "boots_race_data = eq2.slicer(\"race\")\n"
   ]
  },
  {
   "cell_type": "markdown",
   "metadata": {
    "id": "izTeWlr-aoi7"
   },
   "source": [
    "### Calculate disparities"
   ]
  },
  {
   "cell_type": "code",
   "execution_count": null,
   "metadata": {
    "id": "3fBCkNsid7NK"
   },
   "outputs": [],
   "source": [
    "race_metrics = eq2.get_metrics(boots_race_data)"
   ]
  },
  {
   "cell_type": "code",
   "execution_count": null,
   "metadata": {
    "id": "lX31CGEaamjd"
   },
   "outputs": [],
   "source": [
    "dispa = eq2.calculate_disparities(race_metrics, \"race\")"
   ]
  },
  {
   "cell_type": "markdown",
   "metadata": {
    "id": "wfrHSYnTXTOR"
   },
   "source": [
    "## Calculating Disparity\n",
    "Here we look at the disparity between the reference group which in this case is White, with the other race groups.\n",
    "If we compare the prevalence with the predicted prevalence we are able to see if there is a difference."
   ]
  },
  {
   "cell_type": "code",
   "execution_count": null,
   "metadata": {
    "id": "B_uefThEa2Fw"
   },
   "outputs": [],
   "source": [
    "eqb.eq_group_metrics_plot(\n",
    "    group_metrics=dispa,\n",
    "    metric_cols=[\n",
    "        \"Accuracy_Ratio\",\n",
    "        \"Precision_Ratio\",\n",
    "        \"Predicted_Prevalence_Ratio\",\n",
    "        \"Prevalence_Ratio\",\n",
    "        \"FP_Rate_Ratio\",\n",
    "        \"TN_Rate_Ratio\",\n",
    "        \"Recall_Ratio\",\n",
    "    ],\n",
    "    name=\"race\",\n",
    "    categories=\"all\",\n",
    "    plot_type=\"violinplot\",\n",
    "    color_by_group=True,\n",
    "    show_grid=False,\n",
    "    strict_layout=True,\n",
    "    leg_cols=7,\n",
    "    plot_thresholds=[0.9, 1.2],\n",
    ")"
   ]
  },
  {
   "cell_type": "markdown",
   "metadata": {
    "id": "aGDq8HT4arRT"
   },
   "source": [
    "### Calculate differences in metrics"
   ]
  },
  {
   "cell_type": "code",
   "execution_count": null,
   "metadata": {
    "id": "1YugU5MhanHi"
   },
   "outputs": [],
   "source": [
    "diffs = eq2.calculate_differences(race_metrics, \"race\")\n"
   ]
  },
  {
   "cell_type": "markdown",
   "metadata": {
    "id": "lb0B-9jFa68l"
   },
   "source": [
    "### Calculate statistical signficance"
   ]
  },
  {
   "cell_type": "code",
   "execution_count": null,
   "metadata": {
    "id": "Lpo3uJbCauB3"
   },
   "outputs": [],
   "source": [
    "metrics_boot = ['Accuracy_diff', 'Precision_diff', 'Recall_diff', 'F1_Score_diff',\n",
    "       'Specificity_diff', 'TP_Rate_diff', 'FP_Rate_diff', 'FN_Rate_diff',\n",
    "       'TN_Rate_diff', 'Prevalence_diff', 'Predicted_Prevalence_diff',\n",
    "       'ROC_AUC_diff', 'Average_Precision_Score_diff', 'Log_Loss_diff',\n",
    "       'Brier_Score_diff', 'Calibration_AUC_diff']\n",
    "\n",
    "\n",
    "test_config = {\n",
    "    \"test_type\": \"bootstrap_test\",\n",
    "    \"alpha\": 0.05,\n",
    "    \"adjust_method\": \"bonferroni\",\n",
    "    \"confidence_level\": 0.95,\n",
    "    \"classification_task\": \"binary_classification\",\n",
    "    \"tail_type\": \"two_tailed\",\n",
    "    \"metrics\": metrics_boot,\n",
    "}\n",
    "\n",
    "stat_test_results = eq.analyze_statistical_significance(\n",
    "    race_metrics, \"race\", test_config, diffs\n",
    ")"
   ]
  },
  {
   "cell_type": "markdown",
   "metadata": {
    "id": "zHz26IutbFfW"
   },
   "source": [
    "### Table of statistical signficance (difference between metrics)"
   ]
  },
  {
   "cell_type": "code",
   "execution_count": null,
   "metadata": {
    "id": "Akp8J7u_bIyz"
   },
   "outputs": [],
   "source": [
    "stat_metrics_table_diff = metrics_table(race_metrics, statistical_tests=stat_test_results, differences=diffs, reference_group=\"White\")"
   ]
  },
  {
   "cell_type": "code",
   "execution_count": null,
   "metadata": {
    "id": "TmDQBzvFXawc"
   },
   "outputs": [],
   "source": [
    "stat_metrics_table_diff"
   ]
  },
  {
   "cell_type": "markdown",
   "metadata": {
    "id": "OZ77dNMja_1J"
   },
   "source": [
    "### Plot statistical signficance between the differences of metrics\n",
    "\n",
    "This section plots the metrics for each group against each other.\n",
    "Statistical tests are used to determine whether these differences are statistically significant.\n",
    "Statistical signficance is shown with an asterix (*)"
   ]
  },
  {
   "cell_type": "code",
   "execution_count": null,
   "metadata": {
    "id": "H5j-tRgqa9qQ"
   },
   "outputs": [],
   "source": [
    "eqb.eq_group_metrics_plot(\n",
    "    group_metrics=diffs,\n",
    "    metric_cols=metrics_boot,\n",
    "    name=\"race\",\n",
    "    categories=\"all\",\n",
    "    figsize=(12, 10),\n",
    "    plot_type=\"violinplot\",\n",
    "    color_by_group=True,\n",
    "    show_grid=True,\n",
    "    max_cols=4,\n",
    "    strict_layout=True,\n",
    "    save_path=\"./images\",\n",
    "    show_pass_fail=False,\n",
    "    statistical_tests=stat_test_results\n",
    ")"
   ]
  }
 ],
 "metadata": {
  "colab": {
   "provenance": []
  },
  "kernelspec": {
   "display_name": "equiboots",
   "language": "python",
   "name": "python3"
  },
  "language_info": {
   "codemirror_mode": {
    "name": "ipython",
    "version": 3
   },
   "file_extension": ".py",
   "mimetype": "text/x-python",
   "name": "python",
   "nbconvert_exporter": "python",
   "pygments_lexer": "ipython3",
   "version": "3.11.13"
  }
 },
 "nbformat": 4,
 "nbformat_minor": 0
}
