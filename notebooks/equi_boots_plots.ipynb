{
 "cells": [
  {
   "cell_type": "markdown",
   "metadata": {},
   "source": [
    "# EquiBoots Bias and Fairness Assessments"
   ]
  },
  {
   "cell_type": "markdown",
   "metadata": {},
   "source": [
    "## Overview"
   ]
  },
  {
   "cell_type": "markdown",
   "metadata": {},
   "source": [
    "This notebook demonstrates how to use the EquiBoots package to assess bias and fairness in classification models. Specifically, it walks through a mock-up example using synthetic classification data to:\n",
    "\n",
    "- Simulate predictions and true labels\n",
    "- Slice the data by sensitive attributes (e.g., race, gender)\n",
    "- Evaluate group-based fairness metrics (e.g., TPR disparity, accuracy parity)\n",
    "- Visualize disparities using violin, box, and other supported plots\n",
    "\n",
    "The goal is to provide a reproducible, hands-on example of how to leverage `EquiBoots` for auditing model performance across demographic subgroups. This is especially useful for practitioners aiming to build more equitable machine learning systems."
   ]
  },
  {
   "cell_type": "markdown",
   "metadata": {},
   "source": [
    "**Note:** Prefer to run this in the cloud? You can open this notebook directly in [Google Colab](https://colab.research.google.com/drive/1HfCFWrBStJds-B5uomwNW6C7_adVRaIE#scrollTo=MY3SJAUFbTgQ)."
   ]
  },
  {
   "cell_type": "markdown",
   "metadata": {},
   "source": [
    "## Library Imports"
   ]
  },
  {
   "cell_type": "code",
   "execution_count": null,
   "metadata": {},
   "outputs": [],
   "source": [
    "import pandas as pd\n",
    "import numpy as np\n",
    "import os\n",
    "import sys\n",
    "\n",
    "# Add path to import EquiBoots\n",
    "script_path = os.path.abspath(\"../py_scripts\")\n",
    "print(\"Appending path:\", script_path)\n",
    "sys.path.append(script_path)"
   ]
  },
  {
   "cell_type": "code",
   "execution_count": null,
   "metadata": {},
   "outputs": [],
   "source": [
    "import equiboots as eqb"
   ]
  },
  {
   "cell_type": "markdown",
   "metadata": {},
   "source": [
    "## Prepping equiboots"
   ]
  },
  {
   "cell_type": "markdown",
   "metadata": {},
   "source": [
    "### Classification Mock-Up"
   ]
  },
  {
   "cell_type": "markdown",
   "metadata": {},
   "source": [
    "The code below generates synthetic classification data and prepares it for group-based fairness analysis using `equiboots`. It includes:\n",
    "\n",
    "- Simulated predictions and ground truth labels\n",
    "- Demographic group features (race and sex)\n",
    "- Construction of a `fairness_df` with group attributes\n",
    "- Initialization of the `EquiBoots` object for slicing and grouping data"
   ]
  },
  {
   "cell_type": "code",
   "execution_count": null,
   "metadata": {},
   "outputs": [],
   "source": [
    "# Generate synthetic test data\n",
    "y_prob = np.random.rand(1000)\n",
    "y_pred = y_prob > 0.5\n",
    "y_true = np.random.randint(0, 2, 1000)\n",
    "\n",
    "race = (\n",
    "    np.random.RandomState(3)\n",
    "    .choice([\"white\", \"black\", \"asian\", \"hispanic\"], 1000)\n",
    "    .reshape(-1, 1)\n",
    ")\n",
    "sex = np.random.choice([\"M\", \"F\"], 1000).reshape(-1, 1)\n",
    "\n",
    "fairness_df = pd.DataFrame(\n",
    "    data=np.concatenate((race, sex), axis=1), columns=[\"race\", \"sex\"]\n",
    ")\n",
    "\n",
    "# Initialize and process groups\n",
    "eq = eqb.EquiBoots(\n",
    "    y_true=y_true,\n",
    "    y_prob=y_prob,\n",
    "    y_pred=y_pred,\n",
    "    fairness_df=fairness_df,\n",
    "    fairness_vars=[\"race\", \"sex\"],\n",
    ")\n",
    "eq.grouper(groupings_vars=[\"race\", \"sex\"])\n",
    "sliced_data = eq.slicer(\"race\")"
   ]
  },
  {
   "cell_type": "markdown",
   "metadata": {},
   "source": [
    "### Overlay ROC AUC"
   ]
  },
  {
   "cell_type": "markdown",
   "metadata": {},
   "source": [
    "The cells below generates an overlayed ROC curve visualization for different race groups using the `eq_plot_group_curves` function. It helps assess model performance disparities across demographic subgroups by comparing their respective ROC curves."
   ]
  },
  {
   "cell_type": "code",
   "execution_count": null,
   "metadata": {},
   "outputs": [],
   "source": [
    "eqb.eq_plot_group_curves(\n",
    "    sliced_data,\n",
    "    curve_type=\"pr\",\n",
    "    # filename=\"bla\",\n",
    "    title=\"ROC AUC by Race Group\",\n",
    "    n_bins=10,\n",
    "    # group=\"black\",\n",
    "    # exclude_groups=[\"black\", \"asian\"],\n",
    "    save_path=\"./images\",\n",
    ")"
   ]
  },
  {
   "cell_type": "markdown",
   "metadata": {},
   "source": [
    "### Subplots"
   ]
  },
  {
   "cell_type": "code",
   "execution_count": null,
   "metadata": {},
   "outputs": [],
   "source": [
    "eqb.eq_plot_group_curves(\n",
    "    sliced_data,\n",
    "    curve_type=\"roc\",\n",
    "    title=\"ROC AUC by Race Group\",\n",
    "    # figsize=(5, 5),\n",
    "    decimal_places=2,\n",
    "    subplots=True,\n",
    ")"
   ]
  },
  {
   "cell_type": "markdown",
   "metadata": {},
   "source": [
    "### Example of Single Race Group"
   ]
  },
  {
   "cell_type": "code",
   "execution_count": null,
   "metadata": {},
   "outputs": [],
   "source": [
    "eqb.eq_plot_group_curves(\n",
    "    sliced_data,\n",
    "    curve_type=\"roc\",\n",
    "    title=\"ROC AUC by Race Group\",\n",
    "    figsize=(5, 5),\n",
    "    group=\"black\",\n",
    "    color_by_group=False,\n",
    ")"
   ]
  },
  {
   "cell_type": "markdown",
   "metadata": {},
   "source": [
    "## Precision-Recall Curves"
   ]
  },
  {
   "cell_type": "markdown",
   "metadata": {},
   "source": [
    "### Overlay Precision-Recall Curves"
   ]
  },
  {
   "cell_type": "markdown",
   "metadata": {},
   "source": [
    "The cells below generates an overlayed ROC curve visualization for different race groups using the `eq_plot_group_curves` function. It helps assess model performance disparities across demographic subgroups by comparing their respective ROC curves."
   ]
  },
  {
   "cell_type": "code",
   "execution_count": null,
   "metadata": {},
   "outputs": [],
   "source": [
    "eqb.eq_plot_group_curves(\n",
    "    sliced_data,\n",
    "    curve_type=\"pr\",\n",
    "    title=\"Precision-Recall by Race Group\",\n",
    ")"
   ]
  },
  {
   "cell_type": "markdown",
   "metadata": {},
   "source": [
    "### Subplots"
   ]
  },
  {
   "cell_type": "code",
   "execution_count": null,
   "metadata": {},
   "outputs": [],
   "source": [
    "eqb.eq_plot_group_curves(\n",
    "    sliced_data,\n",
    "    curve_type=\"pr\",\n",
    "    title=\"Precision-Recall by Race Group\",\n",
    "    filename=\"race\",\n",
    "    figsize=(5, 5),\n",
    "    decimal_places=2,\n",
    "    n_cols=2,\n",
    "    # show_grid=False,\n",
    "    subplots=True,\n",
    ")"
   ]
  },
  {
   "cell_type": "markdown",
   "metadata": {},
   "source": [
    "### Example of Single Race Group"
   ]
  },
  {
   "cell_type": "code",
   "execution_count": null,
   "metadata": {},
   "outputs": [],
   "source": [
    "eqb.eq_plot_group_curves(\n",
    "    sliced_data,\n",
    "    curve_type=\"pr\",\n",
    "    title=\"Precision-Recall by Race Group\",\n",
    "    figsize=(5, 5),\n",
    "    group=\"black\",\n",
    "    color_by_group=False,\n",
    ")"
   ]
  },
  {
   "cell_type": "markdown",
   "metadata": {},
   "source": [
    "## Calibration Plot"
   ]
  },
  {
   "cell_type": "markdown",
   "metadata": {},
   "source": [
    "### Overlay"
   ]
  },
  {
   "cell_type": "markdown",
   "metadata": {},
   "source": [
    "\n",
    "The following cell generates calibration curves for each race group to visualize how well predicted probabilities align with actual outcomes. Using the `eq_plot_group_curves` function in overlay mode. This is a useful diagnostic for evaluating model reliability and potential miscalibration across demographic subgroups."
   ]
  },
  {
   "cell_type": "code",
   "execution_count": null,
   "metadata": {},
   "outputs": [],
   "source": [
    "eqb.eq_plot_group_curves(\n",
    "    sliced_data,\n",
    "    curve_type=\"calibration\",\n",
    "    title=\"Calibration by Race Group\",\n",
    "    n_bins=10,\n",
    "    show_grid=False,\n",
    "    # exclude_groups=\"white\",\n",
    ")"
   ]
  },
  {
   "cell_type": "markdown",
   "metadata": {},
   "source": [
    "### Subplots"
   ]
  },
  {
   "cell_type": "code",
   "execution_count": null,
   "metadata": {},
   "outputs": [],
   "source": [
    "eqb.eq_plot_group_curves(\n",
    "    sliced_data,\n",
    "    curve_type=\"calibration\",\n",
    "    title=\"Calibration by Race Group\",\n",
    "    figsize=(5, 5),\n",
    "    decimal_places=2,\n",
    "    subplots=True,\n",
    ")"
   ]
  },
  {
   "cell_type": "markdown",
   "metadata": {},
   "source": [
    "### Example of Single Race Group"
   ]
  },
  {
   "cell_type": "code",
   "execution_count": null,
   "metadata": {},
   "outputs": [],
   "source": [
    "eqb.eq_plot_group_curves(\n",
    "    sliced_data,\n",
    "    curve_type=\"calibration\",\n",
    "    title=\"Calibration by Race Group\",\n",
    "    figsize=(5, 5),\n",
    "    group=\"black\",\n",
    "    color_by_group=False,\n",
    ")"
   ]
  },
  {
   "cell_type": "markdown",
   "metadata": {},
   "source": [
    "## Locally Weighted Scatterplot Smoothing (LOWESS) Calibration Curve"
   ]
  },
  {
   "cell_type": "code",
   "execution_count": null,
   "metadata": {},
   "outputs": [],
   "source": [
    "eqb.eq_plot_group_curves(\n",
    "    sliced_data,\n",
    "    curve_type=\"calibration\",\n",
    "    title=\"Calibration by Race Group\",\n",
    "    figsize=(5, 5),\n",
    "    group=\"black\",\n",
    "    lowess=0.6,\n",
    "    lowess_kwargs={\"linestyle\": \"--\", \"linewidth\": 2, \"alpha\": 0.6},\n",
    "    color_by_group=False,\n",
    ")"
   ]
  },
  {
   "cell_type": "markdown",
   "metadata": {},
   "source": [
    "## Disparities and Point Estimate Graphs"
   ]
  },
  {
   "cell_type": "markdown",
   "metadata": {},
   "source": [
    "This section sets up the `EquiBoots` class to compute fairness disparities across race and sex groups using both bootstrapped and non-bootstrapped strategies. Key elements include:\n",
    "\n",
    "- Initialization of the `EquiBoots` object with bootstrapping enabled (`bootstrap_flag=True`)\n",
    "- Seeding for reproducibility across 10 boot iterations\n",
    "- Grouping and slicing by demographic variables\n",
    "- Metric computation and disparity calculation per group (e.g., race)\n",
    "- Final output prepared in a long-form DataFrame for visualization"
   ]
  },
  {
   "cell_type": "markdown",
   "metadata": {},
   "source": [
    "### Disparity (Bootstrapped)"
   ]
  },
  {
   "cell_type": "code",
   "execution_count": null,
   "metadata": {},
   "outputs": [],
   "source": [
    "eq2 = eqb.EquiBoots(\n",
    "    y_true=y_true,\n",
    "    y_prob=y_prob,\n",
    "    y_pred=y_pred,\n",
    "    fairness_df=fairness_df,\n",
    "    fairness_vars=[\"race\", \"sex\"],\n",
    "    reference_groups=[\"white\", \"M\"],\n",
    "    task=\"binary_classification\",\n",
    "    bootstrap_flag=True,\n",
    "    num_bootstraps=10,\n",
    "    boot_sample_size=100,\n",
    "    balanced=False,  # False is stratified, True is balanced\n",
    "    # stratify_by_outcome=True,\n",
    ")\n",
    "\n",
    "# Set seeds\n",
    "int_list = np.linspace(0, 100, num=10, dtype=int).tolist()\n",
    "eq2.set_fix_seeds(int_list)\n",
    "print(\"seeds\", eq2.seeds)\n",
    "\n",
    "eq2.grouper(groupings_vars=[\"race\", \"sex\"])\n",
    "\n",
    "boots_race_data = eq2.slicer(\"race\")\n",
    "race_metrics = eq2.get_metrics(boots_race_data)\n",
    "dispa = eq2.calculate_disparities(race_metrics, \"race\")\n",
    "\n",
    "\n",
    "boots_sex_data = eq2.slicer(\"sex\")\n",
    "sex_metrics = eq2.get_metrics(boots_sex_data)"
   ]
  },
  {
   "cell_type": "markdown",
   "metadata": {},
   "source": [
    "### Bootstrapped Disparities (and General Metrics (Non-Disparity)) (Pass/Fail)"
   ]
  },
  {
   "cell_type": "markdown",
   "metadata": {},
   "source": [
    "The following violinplots show the disparity metrics within threshold for what they are. In the subsequent cell, we will show them for each group as pass or fail. Below we define new variables using the EquiBoots class to calculate disparities\n",
    "for race and sex groups such that they can be used in the point estimates plot."
   ]
  },
  {
   "cell_type": "markdown",
   "metadata": {},
   "source": [
    "#### Bootstrapped Disparities (Pass/Fail)"
   ]
  },
  {
   "cell_type": "code",
   "execution_count": null,
   "metadata": {},
   "outputs": [],
   "source": [
    "eqb.eq_group_metrics_plot(\n",
    "    group_metrics=dispa,\n",
    "    metric_cols=[\n",
    "        \"Accuracy_Ratio\",\n",
    "        \"Precision_Ratio\",\n",
    "        \"Predicted_Prevalence_Ratio\",\n",
    "        \"FP_Rate_Ratio\",\n",
    "        \"TN_Rate_Ratio\",\n",
    "        \"Recall_Ratio\",\n",
    "    ],\n",
    "    name=\"race\",\n",
    "    categories=\"all\",\n",
    "    # figsize=(24, 4),\n",
    "    plot_type=\"violinplot\",\n",
    "    color_by_group=True,\n",
    "    show_grid=False,\n",
    "    strict_layout=True,\n",
    "    save_path=\"./images\",\n",
    "    # max_cols=3,\n",
    "    # show_pass_fail=True,\n",
    "    # y_lim=(-2, 4),\n",
    "    leg_cols=7,\n",
    "    plot_thresholds=[0.9, 1.2],\n",
    ")"
   ]
  },
  {
   "cell_type": "code",
   "execution_count": null,
   "metadata": {},
   "outputs": [],
   "source": [
    "race_metrics"
   ]
  },
  {
   "cell_type": "code",
   "execution_count": null,
   "metadata": {},
   "outputs": [],
   "source": [
    "eqb.eq_group_metrics_plot(\n",
    "    group_metrics=race_metrics,\n",
    "    metric_cols=[\"Accuracy\", \"Recall\", \"ROC AUC\"],\n",
    "    name=\"race\",\n",
    "    categories=\"all\",\n",
    "    figsize=(12, 4),\n",
    "    plot_type=\"boxplot\",\n",
    "    color_by_group=True,\n",
    "    show_grid=False,\n",
    "    strict_layout=True,\n",
    "    save_path=\"./images\",\n",
    "    show_pass_fail=False,\n",
    "    # y_lim=(-2, 4),\n",
    "    # disparity_thresholds=[0.9, 1.2],\n",
    ")"
   ]
  },
  {
   "cell_type": "markdown",
   "metadata": {},
   "source": [
    "Below we define new variables using the EquiBoots class to calculate disparities and non-disparity metrics for race and sex groups such that they can be used in the point estimates plot."
   ]
  },
  {
   "cell_type": "code",
   "execution_count": null,
   "metadata": {},
   "outputs": [],
   "source": [
    "eq3 = eqb.EquiBoots(\n",
    "    y_true=y_true,\n",
    "    y_prob=y_prob,\n",
    "    y_pred=y_pred,\n",
    "    fairness_df=fairness_df,\n",
    "    fairness_vars=[\"race\", \"sex\"],\n",
    "    reference_groups=[\"white\", \"M\"],\n",
    "    task=\"binary_classification\",\n",
    "    bootstrap_flag=False,\n",
    ")\n",
    "\n",
    "eq3.grouper(groupings_vars=[\"race\", \"sex\"])\n",
    "sliced_data = eq3.slicer(\"race\")\n",
    "\n",
    "data_race = eq3.slicer(\"race\")\n",
    "data_sex = eq3.slicer(\"sex\")\n",
    "\n",
    "race_metrics_3 = eq3.get_metrics(data_race)\n",
    "sex_metrics_3 = eq3.get_metrics(data_sex)\n",
    "\n",
    "dispa_race = eq3.calculate_disparities(race_metrics_3, \"race\")\n",
    "dispa_sex = eq3.calculate_disparities(sex_metrics_3, \"sex\")"
   ]
  },
  {
   "cell_type": "markdown",
   "metadata": {},
   "source": [
    "### Point Estimate Disparities and General (Non-Disparity) Metrics (Pass/Fail)"
   ]
  },
  {
   "cell_type": "markdown",
   "metadata": {},
   "source": [
    "The following violinplots show the disparity metrics within threshold for what they are. In the ensuing cell, we will show them for each group as pass or fail."
   ]
  },
  {
   "cell_type": "code",
   "execution_count": null,
   "metadata": {},
   "outputs": [],
   "source": [
    "# Run with custom y_lim and adjusted thresholds\n",
    "eqb.eq_group_metrics_point_plot(\n",
    "    group_metrics=[dispa_sex, dispa_race],\n",
    "    metric_cols=[\n",
    "        \"Accuracy_Ratio\",\n",
    "        \"Precision_Ratio\",\n",
    "        \"Recall_Ratio\",\n",
    "    ],\n",
    "    category_names=[\"sex\", \"race\"],\n",
    "    figsize=(8, 8),\n",
    "    include_legend=True,\n",
    "    plot_thresholds=(0.9, 1.1),\n",
    "    show_pass_fail=True,\n",
    "    # raw_metrics=False,\n",
    "    show_grid=True,\n",
    "    y_lim=(0.7, 1.3),\n",
    "    leg_cols=6,\n",
    "    # y_lim=(0, 0.9),\n",
    ")"
   ]
  },
  {
   "cell_type": "markdown",
   "metadata": {},
   "source": [
    "### Point Estimates"
   ]
  },
  {
   "cell_type": "code",
   "execution_count": null,
   "metadata": {},
   "outputs": [],
   "source": [
    "# Run with custom y_lim and adjusted thresholds\n",
    "eqb.eq_group_metrics_point_plot(\n",
    "    group_metrics=[race_metrics_3, sex_metrics_3],\n",
    "    metric_cols=[\n",
    "        \"Accuracy\",\n",
    "        \"Precision\",\n",
    "        \"Recall\",\n",
    "    ],\n",
    "    category_names=[\"race\", \"sex\"],\n",
    "    figsize=(6, 8),\n",
    "    include_legend=True,\n",
    "    plot_thresholds=(0.9, 1.1),\n",
    "    show_pass_fail=True,\n",
    "    raw_metrics=True,\n",
    "    show_grid=True,\n",
    "    y_lim=(0, 1),\n",
    ")"
   ]
  },
  {
   "cell_type": "code",
   "execution_count": null,
   "metadata": {},
   "outputs": [],
   "source": [
    "test_config = {\n",
    "    \"test_type\": \"chi_square\",\n",
    "    \"alpha\": 0.05,\n",
    "    \"adjust_method\": \"bonferroni\",\n",
    "    \"confidence_level\": 0.95,\n",
    "    \"classification_task\": \"binary_classification\",\n",
    "}\n",
    "stat_test_results = eq.analyze_statistical_significance(\n",
    "    race_metrics_3, \"race\", test_config\n",
    ")"
   ]
  },
  {
   "cell_type": "code",
   "execution_count": null,
   "metadata": {},
   "outputs": [],
   "source": [
    "stat_test_results"
   ]
  },
  {
   "cell_type": "code",
   "execution_count": null,
   "metadata": {},
   "outputs": [],
   "source": [
    "# Run with custom y_lim and adjusted thresholds\n",
    "eqb.eq_group_metrics_point_plot(\n",
    "    group_metrics=[race_metrics_3, sex_metrics_3],\n",
    "    metric_cols=[\n",
    "        \"Accuracy\",\n",
    "        \"Precision\",\n",
    "        \"Recall\",\n",
    "    ],\n",
    "    category_names=[\"race\", \"sex\"],\n",
    "    figsize=(6, 8),\n",
    "    include_legend=True,\n",
    "    plot_thresholds=(0.9, 1.1),\n",
    "    raw_metrics=True,\n",
    "    show_grid=True,\n",
    "    y_lim=(0, 1),\n",
    "    show_reference=True,\n",
    "    y_lims={(0, 0): (0.40, 0.6), (0, 1): (0.40, 0.6)},\n",
    ")"
   ]
  },
  {
   "cell_type": "markdown",
   "metadata": {},
   "source": [
    "## Group Metrics Table"
   ]
  },
  {
   "cell_type": "markdown",
   "metadata": {},
   "source": [
    "The table below aggregates group-level disparity metrics derived from the synthetic classification data. Each row corresponds to a different group or subgroup comparison, and each column represents the ratio of a common performance metric (e.g., accuracy, recall, specificity) between groups.\n",
    "\n",
    "These ratios help quantify disparities; values close to 1.0 indicate parity, while deviations suggest potential fairness concerns. This summary provides a foundation for further visual or statistical analysis.\n",
    "\n",
    "> Note: While this example uses disparity metrics (e.g., `Accuracy_Ratio`, `Recall_Ratio`) generated via `calculate_disparities()`, the same structure works with standard group-level metrics as well. If you're using `get_metrics()` instead, simply pass the non-ratio metric columns (e.g., \"`Accuracy`\", \"`Recall`\") via the metrics_cols argument to generate a comparable summary table.\n"
   ]
  },
  {
   "cell_type": "code",
   "execution_count": null,
   "metadata": {},
   "outputs": [],
   "source": [
    "disa_metrics_df = eqb.metrics_dataframe(metrics_data=dispa)\n",
    "disa_metrics_df"
   ]
  },
  {
   "cell_type": "markdown",
   "metadata": {},
   "source": [
    "## Bootstrapped ROC AUC, Precision-Recall, and Calibration Curves"
   ]
  },
  {
   "cell_type": "markdown",
   "metadata": {},
   "source": [
    "### ROCAUC Bootstrap"
   ]
  },
  {
   "cell_type": "code",
   "execution_count": null,
   "metadata": {},
   "outputs": [],
   "source": [
    "eqb.eq_plot_bootstrapped_group_curves(\n",
    "    boot_sliced_data=boots_race_data,\n",
    "    curve_type=\"roc\",\n",
    "    title=\"Bootstrapped ROC Curve by Race\",\n",
    "    filename=\"boot_roc_race\",\n",
    "    save_path=\"./images\",\n",
    "    # subplots=True,\n",
    "    bar_every=100,\n",
    "    dpi=100,\n",
    "    n_bins=10,\n",
    "    figsize=(6, 6),\n",
    "    color_by_group=True,\n",
    ")"
   ]
  },
  {
   "cell_type": "markdown",
   "metadata": {},
   "source": [
    "### Precision-Recall Bootstrap"
   ]
  },
  {
   "cell_type": "code",
   "execution_count": null,
   "metadata": {},
   "outputs": [],
   "source": [
    "eqb.eq_plot_bootstrapped_group_curves(\n",
    "    boot_sliced_data=boots_race_data,\n",
    "    curve_type=\"pr\",\n",
    "    title=\"Bootstrapped PR Curve by Race\",\n",
    "    figsize=(6, 6),\n",
    "    color_by_group=True,\n",
    "    subplots=True,\n",
    "    # exclude_groups=247,\n",
    ")"
   ]
  },
  {
   "cell_type": "markdown",
   "metadata": {},
   "source": [
    "### Calibration Plots Bootstrapped"
   ]
  },
  {
   "cell_type": "code",
   "execution_count": null,
   "metadata": {},
   "outputs": [],
   "source": [
    "eqb.eq_plot_bootstrapped_group_curves(\n",
    "    boot_sliced_data=boots_race_data,\n",
    "    curve_type=\"calibration\",\n",
    "    title=\"Brier Score by Race\",\n",
    "    figsize=(6, 6),\n",
    "    color_by_group=True,\n",
    ")"
   ]
  },
  {
   "cell_type": "code",
   "execution_count": null,
   "metadata": {},
   "outputs": [],
   "source": [
    "eqb.eq_plot_bootstrapped_group_curves(\n",
    "    boot_sliced_data=boots_race_data,\n",
    "    curve_type=\"calibration\",\n",
    "    title=\"Bootstrapped ROC Curve by Race\",\n",
    "    figsize=(6, 6),\n",
    "    subplots=True,\n",
    "    color_by_group=True,\n",
    ")"
   ]
  },
  {
   "cell_type": "markdown",
   "metadata": {},
   "source": [
    "## Regression Mock-Up"
   ]
  },
  {
   "cell_type": "code",
   "execution_count": null,
   "metadata": {},
   "outputs": [],
   "source": [
    "## Generate synthetic regression-like data\n",
    "np.random.seed(42)\n",
    "y_true = np.random.normal(loc=50, scale=10, size=1000)  ## continuous target\n",
    "y_pred = y_true + np.random.normal(\n",
    "    loc=0, scale=5, size=1000\n",
    ")  # predicted value with noise\n",
    "\n",
    "# Not really 'prob', but using this slot for predicted values\n",
    "y_prob = y_pred\n",
    "\n",
    "race = (\n",
    "    np.random.RandomState(3)\n",
    "    .choice([\"white\", \"black\", \"asian\", \"hispanic\"], 1000)\n",
    "    .reshape(-1, 1)\n",
    ")\n",
    "sex = np.random.choice([\"M\", \"F\"], 1000).reshape(-1, 1)\n",
    "\n",
    "fairness_df = pd.DataFrame(\n",
    "    data=np.concatenate((race, sex), axis=1), columns=[\"race\", \"sex\"]\n",
    ")\n",
    "\n",
    "# Initialize and process groups\n",
    "eq3 = eqb.EquiBoots(\n",
    "    y_true=y_true,\n",
    "    y_prob=y_prob,\n",
    "    y_pred=y_pred,\n",
    "    task=\"regression\",\n",
    "    fairness_df=fairness_df,\n",
    "    fairness_vars=[\"race\", \"sex\"],\n",
    ")\n",
    "eq3.grouper(groupings_vars=[\"race\", \"sex\"])\n",
    "sliced_data_2 = eq3.slicer(\"race\")"
   ]
  },
  {
   "cell_type": "markdown",
   "metadata": {},
   "source": [
    "### Regression Residuals"
   ]
  },
  {
   "cell_type": "code",
   "execution_count": null,
   "metadata": {},
   "outputs": [],
   "source": [
    "eqb.eq_plot_residuals_by_group(\n",
    "    data=sliced_data_2,\n",
    "    # y_true=y_true,\n",
    "    # y_prob=y_pred,\n",
    "    # group=\"black\",\n",
    "    title=\"Residuals by Race\",\n",
    "    filename=\"residuals_by_race\",\n",
    "    # subplots=True,\n",
    "    # group=\"black\",\n",
    "    color_by_group=True,\n",
    "    # n_cols=1,\n",
    "    # n_rows=2,\n",
    "    figsize=(8, 6),\n",
    "    # group=\"black\",\n",
    "    show_centroids=True,\n",
    "    save_path=\"./images\",\n",
    "    # exclude_groups=\"white\",\n",
    "    show_grid=False,\n",
    ")"
   ]
  },
  {
   "cell_type": "code",
   "execution_count": null,
   "metadata": {},
   "outputs": [],
   "source": [
    "eqb.eq_plot_residuals_by_group(\n",
    "    data=sliced_data_2,\n",
    "    title=\"Residuals by Race\",\n",
    "    filename=\"residuals_by_race\",\n",
    "    subplots=True,\n",
    "    # group=\"black\",\n",
    "    color_by_group=True,\n",
    "    figsize=(8, 6),\n",
    "    # group=\"black\",\n",
    "    show_centroids=True,\n",
    "    save_path=\"./images\",\n",
    "    # exclude_groups=\"white\",\n",
    "    show_grid=False,\n",
    ")"
   ]
  }
 ],
 "metadata": {
  "kernelspec": {
   "display_name": "equi_venv",
   "language": "python",
   "name": "python3"
  },
  "language_info": {
   "codemirror_mode": {
    "name": "ipython",
    "version": 3
   },
   "file_extension": ".py",
   "mimetype": "text/x-python",
   "name": "python",
   "nbconvert_exporter": "python",
   "pygments_lexer": "ipython3",
   "version": "3.11.11"
  }
 },
 "nbformat": 4,
 "nbformat_minor": 2
}
