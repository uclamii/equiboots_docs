{
 "cells": [
  {
   "cell_type": "code",
   "execution_count": null,
   "metadata": {},
   "outputs": [],
   "source": [
    "import numpy as np\n",
    "import equiboots as eqb"
   ]
  },
  {
   "cell_type": "markdown",
   "metadata": {},
   "source": [
    "## Testing Exception for NaN values in `y_true`"
   ]
  },
  {
   "cell_type": "code",
   "execution_count": null,
   "metadata": {},
   "outputs": [],
   "source": [
    "data_nan = {\n",
    "    \"asian\": {\"y_true\": np.array([1, 0, np.nan]), \"y_prob\": np.array([0.9, 0.2, 0.8])},\n",
    "    \"black\": {\"y_true\": np.array([0, 1, 0]), \"y_prob\": np.array([0.1, 0.8, 0.3])},\n",
    "}\n",
    "\n",
    "try:\n",
    "    eqb.eq_plot_group_curves(\n",
    "        data_nan,\n",
    "        curve_type=\"roc\",\n",
    "        title=\"ROC Curves by Group\",\n",
    "    )\n",
    "except ValueError as e:\n",
    "    print(e)"
   ]
  },
  {
   "cell_type": "markdown",
   "metadata": {},
   "source": [
    "## Testing Exception for Missing `y_true`"
   ]
  },
  {
   "cell_type": "code",
   "execution_count": null,
   "metadata": {},
   "outputs": [],
   "source": [
    "data_missing_y_true = {\n",
    "    \"asian\": {\"y_prob\": np.array([0.9, 0.2, 0.8])},  # Missing y_true\n",
    "    \"black\": {\"y_true\": np.array([0, 1, 0]), \"y_prob\": np.array([0.1, 0.8, 0.3])},\n",
    "}\n",
    "\n",
    "try:\n",
    "    eqb.eq_plot_group_curves(\n",
    "        data_missing_y_true,\n",
    "        curve_type=\"roc\",\n",
    "        title=\"ROC Curves by Group\",\n",
    "    )\n",
    "except ValueError as e:\n",
    "    print(e)"
   ]
  },
  {
   "cell_type": "markdown",
   "metadata": {},
   "source": [
    "##  Testing Invalid Group Name in `curve_kwgs`"
   ]
  },
  {
   "cell_type": "code",
   "execution_count": null,
   "metadata": {},
   "outputs": [],
   "source": [
    "data_kwgs = {\n",
    "    \"asian\": {\"y_true\": np.array([1, 0, 1]), \"y_prob\": np.array([0.9, 0.2, 0.8])},\n",
    "    \"black\": {\"y_true\": np.array([0, 1, 0]), \"y_prob\": np.array([0.1, 0.8, 0.3])},\n",
    "}\n",
    "\n",
    "curve_kwgs = {\n",
    "    \"asian\": {\"linestyle\": \"--\"},\n",
    "    \"invalid_group\": {\"color\": \"red\"},  # Invalid group name\n",
    "}\n",
    "\n",
    "try:\n",
    "    eqb.eq_plot_group_curves(\n",
    "        data_kwgs,\n",
    "        curve_type=\"roc\",\n",
    "        curve_kwgs=curve_kwgs,\n",
    "        title=\"ROC Curves by Group\",\n",
    "    )\n",
    "except ValueError as e:\n",
    "    print(e)"
   ]
  },
  {
   "cell_type": "markdown",
   "metadata": {},
   "source": [
    "## Invalid `line_kwgs` in `eq_plot_group_curves`"
   ]
  },
  {
   "cell_type": "code",
   "execution_count": null,
   "metadata": {},
   "outputs": [],
   "source": [
    "data_group_curves = {\n",
    "    \"asian\": {\"y_true\": np.array([1, 0, 1]), \"y_prob\": np.array([0.9, 0.2, 0.8])},\n",
    "    \"black\": {\"y_true\": np.array([0, 1, 0]), \"y_prob\": np.array([0.1, 0.8, 0.3])},\n",
    "}\n",
    "\n",
    "line_kwgs = {\"invalid_arg\": \"value\"}  # Invalid argument\n",
    "\n",
    "try:\n",
    "    eqb.eq_plot_group_curves(\n",
    "        data_group_curves,\n",
    "        curve_type=\"roc\",\n",
    "        line_kwgs=line_kwgs,\n",
    "        title=\"ROC Curves by Group\",\n",
    "    )\n",
    "except ValueError as e:\n",
    "    print(e)"
   ]
  },
  {
   "cell_type": "code",
   "execution_count": null,
   "metadata": {},
   "outputs": [],
   "source": [
    "boot_sliced_data = [\n",
    "    {\n",
    "        \"asian\": {\"y_true\": np.array([1, 0, 1]), \"y_prob\": np.array([0.9, 0.2, 0.8])},\n",
    "        \"black\": {\"y_true\": np.array([0, 1, 0]), \"y_prob\": np.array([0.1, 0.8, 0.3])},\n",
    "    },\n",
    "]\n",
    "\n",
    "line_kwgs = {\"invalid_arg\": \"value\"}  # Invalid argument\n",
    "\n",
    "try:\n",
    "    eqb.eq_plot_bootstrapped_group_curves(\n",
    "        boot_sliced_data,\n",
    "        curve_type=\"roc\",\n",
    "        line_kwgs=line_kwgs,\n",
    "        title=\"Bootstrapped ROC Curves by Group\",\n",
    "    )\n",
    "except ValueError as e:\n",
    "    print(e)"
   ]
  }
 ],
 "metadata": {
  "kernelspec": {
   "display_name": "equi_venv_311",
   "language": "python",
   "name": "python3"
  },
  "language_info": {
   "codemirror_mode": {
    "name": "ipython",
    "version": 3
   },
   "file_extension": ".py",
   "mimetype": "text/x-python",
   "name": "python",
   "nbconvert_exporter": "python",
   "pygments_lexer": "ipython3",
   "version": "3.11.0"
  }
 },
 "nbformat": 4,
 "nbformat_minor": 2
}
