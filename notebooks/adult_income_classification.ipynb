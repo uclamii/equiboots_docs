{
 "cells": [
  {
   "cell_type": "markdown",
   "metadata": {},
   "source": [
    "## Adult Income Dataset"
   ]
  },
  {
   "cell_type": "markdown",
   "metadata": {},
   "source": [
    "## Import Requisite Libraries"
   ]
  },
  {
   "cell_type": "code",
   "execution_count": null,
   "metadata": {},
   "outputs": [],
   "source": [
    "import model_tuner"
   ]
  },
  {
   "cell_type": "code",
   "execution_count": null,
   "metadata": {},
   "outputs": [],
   "source": [
    "help(model_tuner)"
   ]
  },
  {
   "cell_type": "code",
   "execution_count": null,
   "metadata": {},
   "outputs": [],
   "source": [
    "from ucimlrepo import fetch_ucirepo\n",
    "import pandas as pd\n",
    "import numpy as np\n",
    "from xgboost import XGBClassifier\n",
    "from sklearn.preprocessing import StandardScaler, OneHotEncoder\n",
    "from sklearn.impute import SimpleImputer\n",
    "from sklearn.pipeline import Pipeline\n",
    "from sklearn.compose import ColumnTransformer\n",
    "from model_tuner import Model"
   ]
  },
  {
   "cell_type": "code",
   "execution_count": null,
   "metadata": {},
   "outputs": [],
   "source": [
    "from eda_toolkit import add_ids"
   ]
  },
  {
   "cell_type": "code",
   "execution_count": null,
   "metadata": {},
   "outputs": [],
   "source": [
    "# # fetch dataset\n",
    "# adult = fetch_ucirepo(id=2)\n",
    "\n",
    "# adult = adult.data.features.join(adult.data.targets, how=\"inner\")\n",
    "\n",
    "# adult = add_ids(df=adult, id_colname=\"Adult_ID\", num_digits=9).set_index(\n",
    "#     \"Adult_ID\",\n",
    "# )\n",
    "\n",
    "adult = pd.read_parquet(\"df.parquet\")\n",
    "adult\n",
    "# data (as pandas dataframes)\n",
    "X = adult[[col for col in adult.columns if not \"income\" in col]]\n",
    "y = adult[[\"income\"]]"
   ]
  },
  {
   "cell_type": "code",
   "execution_count": null,
   "metadata": {},
   "outputs": [],
   "source": [
    "print(\"-\" * 80)\n",
    "print(\"X\")\n",
    "print(\"-\" * 80)\n",
    "\n",
    "print(X.head())  # inspect first 5 rows of X"
   ]
  },
  {
   "cell_type": "code",
   "execution_count": null,
   "metadata": {},
   "outputs": [],
   "source": [
    "print(\"-\" * 80)\n",
    "print(\"y = Outcome = Income\")\n",
    "print(\"-\" * 80)\n",
    "\n",
    "print(f\"\\n{y.head()}\")  # inspect first 5 rows of y\n",
    "\n",
    "y.loc[:, \"income\"] = y[\"income\"].str.rstrip(\".\")  # Remove trailing periods\n",
    "\n",
    "print(f\"\\n Income Value Counts: \\n\")\n",
    "# Check the updated value counts\n",
    "print(y[\"income\"].value_counts())\n",
    "\n",
    "y = y[\"income\"].map({\"<=50K\": 0, \">50K\": 1})\n",
    "\n",
    "outcome = [\"y\"]"
   ]
  },
  {
   "cell_type": "code",
   "execution_count": null,
   "metadata": {},
   "outputs": [],
   "source": [
    "# >2 categories\n",
    "categorical_features = [\n",
    "    \"workclass\",\n",
    "    \"education\",\n",
    "    \"marital-status\",\n",
    "    \"occupation\",\n",
    "    \"relationship\",\n",
    "    \"race\",\n",
    "    \"sex\",\n",
    "    \"native-country\",\n",
    "    \"race\",\n",
    "]"
   ]
  },
  {
   "cell_type": "code",
   "execution_count": null,
   "metadata": {},
   "outputs": [],
   "source": [
    "# continuous or binary\n",
    "numerical_features = X.select_dtypes(np.number).columns.to_list()"
   ]
  },
  {
   "cell_type": "code",
   "execution_count": null,
   "metadata": {},
   "outputs": [],
   "source": [
    "xgb_name = \"xgb\"\n",
    "xgb = XGBClassifier(\n",
    "    objective=\"binary:logistic\",\n",
    "    random_state=222,\n",
    "    tree_method=\"hist\",\n",
    "    device=\"cuda\",\n",
    ")\n",
    "xgbearly = True\n",
    "tuned_parameters_xgb = {\n",
    "    f\"{xgb_name}__max_depth\": [3, 10, 20, 200, 500],\n",
    "    f\"{xgb_name}__learning_rate\": [1e-4],\n",
    "    f\"{xgb_name}__n_estimators\": [1000],\n",
    "    f\"{xgb_name}__early_stopping_rounds\": [100],\n",
    "    f\"{xgb_name}__verbose\": [0],\n",
    "    f\"{xgb_name}__eval_metric\": [\"logloss\"],\n",
    "}\n",
    "\n",
    "xgb_definition = {\n",
    "    \"clc\": xgb,\n",
    "    \"estimator_name\": xgb_name,\n",
    "    \"tuned_parameters\": tuned_parameters_xgb,\n",
    "    \"randomized_grid\": False,\n",
    "    \"n_iter\": 5,\n",
    "    \"early\": xgbearly,\n",
    "}\n",
    "\n",
    "model_definitions = {\n",
    "    xgb_name: xgb_definition,\n",
    "}\n",
    "\n",
    "# Define transformers for different column types\n",
    "numerical_transformer = Pipeline(\n",
    "    steps=[\n",
    "        (\"scaler\", StandardScaler()),\n",
    "        (\"imputer\", SimpleImputer(strategy=\"mean\")),\n",
    "    ]\n",
    ")\n",
    "\n",
    "categorical_transformer = Pipeline(\n",
    "    steps=[\n",
    "        (\"imputer\", SimpleImputer(strategy=\"constant\", fill_value=\"missing\")),\n",
    "        (\"encoder\", OneHotEncoder(handle_unknown=\"ignore\")),\n",
    "    ]\n",
    ")\n",
    "\n",
    "# Create the ColumnTransformer with passthrough\n",
    "preprocessor = ColumnTransformer(\n",
    "    transformers=[\n",
    "        (\"num\", numerical_transformer, numerical_features),\n",
    "        (\"cat\", categorical_transformer, categorical_features),\n",
    "    ],\n",
    "    remainder=\"passthrough\",\n",
    ")"
   ]
  },
  {
   "cell_type": "code",
   "execution_count": null,
   "metadata": {},
   "outputs": [],
   "source": [
    "model_type = \"xgb\"\n",
    "clc = xgb_definition[\"clc\"]\n",
    "estimator_name = xgb_definition[\"estimator_name\"]\n",
    "\n",
    "tuned_parameters = xgb_definition[\"tuned_parameters\"]\n",
    "n_iter = xgb_definition[\"n_iter\"]\n",
    "rand_grid = xgb_definition[\"randomized_grid\"]\n",
    "early_stop = xgb_definition[\"early\"]\n",
    "kfold = False\n",
    "calibrate = True"
   ]
  },
  {
   "cell_type": "code",
   "execution_count": null,
   "metadata": {},
   "outputs": [],
   "source": [
    "model_xgb = Model(\n",
    "    name=f\"AIDS_Clinical_{model_type}\",\n",
    "    estimator_name=estimator_name,\n",
    "    calibrate=calibrate,\n",
    "    estimator=clc,\n",
    "    model_type=\"classification\",\n",
    "    kfold=kfold,\n",
    "    pipeline_steps=[(\"ColumnTransformer\", preprocessor)],\n",
    "    stratify_y=True,\n",
    "    stratify_cols=[\"race\", \"sex\"],\n",
    "    grid=tuned_parameters,\n",
    "    randomized_grid=rand_grid,\n",
    "    boost_early=early_stop,\n",
    "    scoring=[\"roc_auc\"],\n",
    "    random_state=222,\n",
    "    n_jobs=2,\n",
    ")"
   ]
  },
  {
   "cell_type": "code",
   "execution_count": null,
   "metadata": {},
   "outputs": [],
   "source": [
    "model_xgb.grid_search_param_tuning(X, y, f1_beta_tune=True)"
   ]
  },
  {
   "cell_type": "code",
   "execution_count": null,
   "metadata": {},
   "outputs": [],
   "source": [
    "X_train, y_train = model_xgb.get_train_data(X, y)\n",
    "X_test, y_test = model_xgb.get_test_data(X, y)\n",
    "X_valid, y_valid = model_xgb.get_valid_data(X, y)"
   ]
  },
  {
   "cell_type": "code",
   "execution_count": null,
   "metadata": {},
   "outputs": [],
   "source": [
    "model_xgb.fit(X_train, y_train, validation_data=[X_valid, y_valid])"
   ]
  },
  {
   "cell_type": "markdown",
   "metadata": {},
   "source": [
    "## Return Metrics (Optional)"
   ]
  },
  {
   "cell_type": "code",
   "execution_count": null,
   "metadata": {},
   "outputs": [],
   "source": [
    "print(\"Validation Metrics\")\n",
    "model_xgb.return_metrics(X_valid, y_valid, optimal_threshold=True)"
   ]
  },
  {
   "cell_type": "code",
   "execution_count": null,
   "metadata": {},
   "outputs": [],
   "source": [
    "print(\"Test Metrics\")\n",
    "model_xgb.return_metrics(X_test, y_test, optimal_threshold=True)"
   ]
  },
  {
   "cell_type": "markdown",
   "metadata": {},
   "source": [
    "## Extract Predicted Probabilities"
   ]
  },
  {
   "cell_type": "code",
   "execution_count": null,
   "metadata": {},
   "outputs": [],
   "source": [
    "y_prob = model_xgb.predict_proba(X_test)"
   ]
  },
  {
   "cell_type": "code",
   "execution_count": null,
   "metadata": {},
   "outputs": [],
   "source": [
    "y_prob = pd.DataFrame(y_prob)\n",
    "y_prob"
   ]
  },
  {
   "cell_type": "code",
   "execution_count": null,
   "metadata": {},
   "outputs": [],
   "source": [
    "y_pred = model_xgb.predict(X_test, optimal_threshold=True)"
   ]
  },
  {
   "cell_type": "code",
   "execution_count": null,
   "metadata": {},
   "outputs": [],
   "source": [
    "# Cast predictions into DataFrame\n",
    "y_pred = pd.DataFrame(y_pred)"
   ]
  },
  {
   "cell_type": "code",
   "execution_count": null,
   "metadata": {},
   "outputs": [],
   "source": [
    "y_pred"
   ]
  }
 ],
 "metadata": {
  "kernelspec": {
   "display_name": "equi_venv_311",
   "language": "python",
   "name": "python3"
  },
  "language_info": {
   "codemirror_mode": {
    "name": "ipython",
    "version": 3
   },
   "file_extension": ".py",
   "mimetype": "text/x-python",
   "name": "python",
   "nbconvert_exporter": "python",
   "pygments_lexer": "ipython3",
   "version": "3.11.0"
  }
 },
 "nbformat": 4,
 "nbformat_minor": 2
}
